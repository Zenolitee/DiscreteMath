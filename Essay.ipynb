{
 "cells": [
  {
   "cell_type": "markdown",
   "metadata": {},
   "source": [
    "Essay:"
   ]
  },
  {
   "cell_type": "markdown",
   "metadata": {},
   "source": [
    "Based from my knowledge, the difference from using libraries compared to not using any is that not using libraries or other components sacrifices resources and speed. On the other hand, using libraries does the opposite, which speeds up the process and uses less resources since the code isn't that indepth and too intricate."
   ]
  }
 ],
 "metadata": {
  "language_info": {
   "name": "python"
  }
 },
 "nbformat": 4,
 "nbformat_minor": 2
}
